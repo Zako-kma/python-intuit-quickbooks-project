{
  "nbformat": 4,
  "nbformat_minor": 0,
  "metadata": {
    "colab": {
      "provenance": [],
      "toc_visible": true,
      "mount_file_id": "1TiP0i-Ebf_rknvY2VlTGkJQPV4HY38Ty",
      "authorship_tag": "ABX9TyNZ9J5rm6IcDDVGu5Y1wvrr",
      "include_colab_link": true
    },
    "kernelspec": {
      "name": "python3",
      "display_name": "Python 3"
    },
    "language_info": {
      "name": "python"
    }
  },
  "cells": [
    {
      "cell_type": "markdown",
      "metadata": {
        "id": "view-in-github",
        "colab_type": "text"
      },
      "source": [
        "<a href=\"https://colab.research.google.com/github/Zako-kma/python-intuit-quickbooks-project/blob/main/Variable.ipynb\" target=\"_parent\"><img src=\"https://colab.research.google.com/assets/colab-badge.svg\" alt=\"Open In Colab\"/></a>"
      ]
    },
    {
      "cell_type": "code",
      "execution_count": null,
      "metadata": {
        "colab": {
          "base_uri": "https://localhost:8080/"
        },
        "id": "-Jzwof9Iy_Zb",
        "outputId": "5e727cb4-dc7b-444a-d0f9-c70411f1e4f1"
      },
      "outputs": [
        {
          "output_type": "stream",
          "name": "stdout",
          "text": [
            "Entré votre Prénom:Khalahan\n",
            "Entré votre nom:Zako\n",
            "Votre nom complet est: Khalahan Zako\n"
          ]
        }
      ],
      "source": [
        "Prénom = input(\"Entré votre Prénom:\")\n",
        "Nom = input(\"Entré votre nom:\")\n",
        "print(\"Votre nom complet est:\", Prénom, Nom)"
      ]
    },
    {
      "cell_type": "code",
      "source": [
        "Ville = input(\"Tapez un nom de ville: \")\n",
        "Ville_Majusc = Ville.upper()\n",
        "print(Ville_Majusc)"
      ],
      "metadata": {
        "colab": {
          "base_uri": "https://localhost:8080/"
        },
        "id": "UWAufU-X8ANS",
        "outputId": "8bb85092-850a-4dd8-84cc-f8e97895a6df"
      },
      "execution_count": null,
      "outputs": [
        {
          "output_type": "stream",
          "name": "stdout",
          "text": [
            "Tapez un nom de ville: Cachan\n",
            "CACHAN\n"
          ]
        }
      ]
    },
    {
      "cell_type": "code",
      "source": [
        "Nombizarre = input(\"Inventez un nom bizarre avec beaucoup de x :\")\n",
        "Nombizarre = Nombizarre.replace(\"x\", \"yxyz\")\n",
        "print(\"Votre nom rendu encore plus bizzare :\", Nombizarre)"
      ],
      "metadata": {
        "colab": {
          "base_uri": "https://localhost:8080/"
        },
        "id": "8mm3YMUQ8_vC",
        "outputId": "3ef8e471-c7af-4632-dc85-5399ef6d6a50"
      },
      "execution_count": null,
      "outputs": [
        {
          "output_type": "stream",
          "name": "stdout",
          "text": [
            "Inventez un nom bizarre avec beaucoup de x :xonaxa\n",
            "Votre nom rendu encore plus bizzare : yxyzonayxyza\n"
          ]
        }
      ]
    },
    {
      "cell_type": "code",
      "source": [
        "Âge = input(\"Entrez un âge: \")\n",
        "Âge_entier = int(Âge)"
      ],
      "metadata": {
        "colab": {
          "base_uri": "https://localhost:8080/"
        },
        "id": "ssbkxKC2-mSb",
        "outputId": "e170650b-4c41-4c81-a4be-12df573efa3e"
      },
      "execution_count": null,
      "outputs": [
        {
          "name": "stdout",
          "output_type": "stream",
          "text": [
            "Entrez un âge: 24\n"
          ]
        }
      ]
    },
    {
      "cell_type": "code",
      "source": [
        "Celsius = input(\"Entrez une température :\")\n",
        "Température = float(Celsius)\n",
        "Farenheit = (Température * 1.8) + 32\n",
        "print(\"L'équivalent en Farenheit est de :\", Farenheit)"
      ],
      "metadata": {
        "colab": {
          "base_uri": "https://localhost:8080/"
        },
        "id": "qOPVbPmf_O5x",
        "outputId": "6d6c6ff1-64d4-4471-c790-114dd78156eb"
      },
      "execution_count": null,
      "outputs": [
        {
          "output_type": "stream",
          "name": "stdout",
          "text": [
            "Entrez une température :10\n",
            "L'équivalent en Farenheit est de : 50.0\n"
          ]
        }
      ]
    }
  ]
}