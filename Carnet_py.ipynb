{
  "nbformat": 4,
  "nbformat_minor": 0,
  "metadata": {
    "colab": {
      "provenance": [],
      "authorship_tag": "ABX9TyNB7UzYadonUfx1dUiHGQpV",
      "include_colab_link": true
    },
    "kernelspec": {
      "name": "python3",
      "display_name": "Python 3"
    },
    "language_info": {
      "name": "python"
    }
  },
  "cells": [
    {
      "cell_type": "markdown",
      "metadata": {
        "id": "view-in-github",
        "colab_type": "text"
      },
      "source": [
        "<a href=\"https://colab.research.google.com/github/Zako-kma/python-intuit-quickbooks-project/blob/main/Carnet_py.ipynb\" target=\"_parent\"><img src=\"https://colab.research.google.com/assets/colab-badge.svg\" alt=\"Open In Colab\"/></a>"
      ]
    },
    {
      "cell_type": "code",
      "execution_count": 1,
      "metadata": {
        "id": "OHQ--34qUmN0",
        "colab": {
          "base_uri": "https://localhost:8080/"
        },
        "outputId": "e5b0fd0b-27e4-40a4-850b-3d13a4640d4c"
      },
      "outputs": [
        {
          "output_type": "stream",
          "name": "stdout",
          "text": [
            "Opened database successfully\n"
          ]
        }
      ],
      "source": [
        "import sqlite3\n",
        "conn = sqlite3.connect('contact.db')\n",
        "print(\"Opened database successfully\")\n",
        "cursor = conn.cursor()\n",
        "\n",
        "# Use CREATE TABLE IF NOT EXISTS to avoid errors if the table already exists\n",
        "cursor.execute(\"CREATE TABLE IF NOT EXISTS contact(id INT, nom TEXT, prenom TEXT, tel TEXT, email TEXT)\")\n",
        "\n",
        "conn.commit()\n",
        "\n",
        "cursor.close()\n",
        "conn.close()\n",
        "\n",
        "import sqlite3\n",
        "\n",
        "conn = sqlite3.connect('contact.db')\n",
        "cursor = conn.cursor()\n",
        "\n",
        "# Correct the INSERT INTO statement with closing parenthesis and VALUES clause\n",
        "# Replace the placeholder values with the actual data you want to insert\n",
        "cursor.execute(\"INSERT INTO contact(id,nom,prenom,tel,email)VALUES('Khal','Khalil','Zako','0644351025','zkhalil@yahoo.it')\")\n",
        "\n",
        "conn.commit()\n",
        "cursor.close()\n",
        "conn.close()\n",
        "\n"
      ]
    }
  ]
}